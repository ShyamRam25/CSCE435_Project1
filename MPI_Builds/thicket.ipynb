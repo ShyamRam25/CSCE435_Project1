{
 "cells": [
  {
   "cell_type": "code",
   "execution_count": 1,
   "metadata": {
    "vscode": {
     "languageId": "plaintext"
    }
   },
   "outputs": [
    {
     "name": "stdout",
     "output_type": "stream",
     "text": [
      "Warning: Roundtrip module could not be loaded. Requires jupyter notebook version <= 7.x.\n"
     ]
    }
   ],
   "source": [
    "import sys\n",
    "sys.path.append(\"/scratch/group/csce435-f24/python-3.10.4/lib/python3.10/site-packages\")\n",
    "sys.path.append(\"/scratch/group/csce435-f24/thicket\")\n",
    "from glob import glob\n",
    "\n",
    "import matplotlib.pyplot as plt\n",
    "import pandas as pd\n",
    "\n",
    "import thicket as th"
   ]
  },
  {
   "cell_type": "code",
   "execution_count": 2,
   "metadata": {
    "vscode": {
     "languageId": "plaintext"
    }
   },
   "outputs": [
    {
     "name": "stderr",
     "output_type": "stream",
     "text": [
      "(1/2) Reading Files: 100%|██████████| 1/1 [00:00<00:00,  6.45it/s]\n",
      "0it [00:00, ?it/s]\n"
     ]
    }
   ],
   "source": [
    "tk = th.Thicket.from_caliperreader(glob(\"cali/*.cali\"))"
   ]
  },
  {
   "cell_type": "code",
   "execution_count": 3,
   "metadata": {
    "vscode": {
     "languageId": "plaintext"
    }
   },
   "outputs": [
    {
     "data": {
      "text/html": [
       "<div>\n",
       "<style scoped>\n",
       "    .dataframe tbody tr th:only-of-type {\n",
       "        vertical-align: middle;\n",
       "    }\n",
       "\n",
       "    .dataframe tbody tr th {\n",
       "        vertical-align: top;\n",
       "    }\n",
       "\n",
       "    .dataframe thead th {\n",
       "        text-align: right;\n",
       "    }\n",
       "</style>\n",
       "<table border=\"1\" class=\"dataframe\">\n",
       "  <thead>\n",
       "    <tr style=\"text-align: right;\">\n",
       "      <th></th>\n",
       "      <th>cali.caliper.version</th>\n",
       "      <th>mpi.world.size</th>\n",
       "      <th>spot.metrics</th>\n",
       "      <th>spot.timeseries.metrics</th>\n",
       "      <th>spot.format.version</th>\n",
       "      <th>spot.options</th>\n",
       "      <th>spot.channels</th>\n",
       "      <th>cali.channel</th>\n",
       "      <th>spot:node.order</th>\n",
       "      <th>spot:output</th>\n",
       "      <th>...</th>\n",
       "      <th>algorithm</th>\n",
       "      <th>programming_model</th>\n",
       "      <th>data_type</th>\n",
       "      <th>size_of_data_type</th>\n",
       "      <th>input_size</th>\n",
       "      <th>input_type</th>\n",
       "      <th>num_procs</th>\n",
       "      <th>scalability</th>\n",
       "      <th>group_num</th>\n",
       "      <th>implementation_source</th>\n",
       "    </tr>\n",
       "    <tr>\n",
       "      <th>profile</th>\n",
       "      <th></th>\n",
       "      <th></th>\n",
       "      <th></th>\n",
       "      <th></th>\n",
       "      <th></th>\n",
       "      <th></th>\n",
       "      <th></th>\n",
       "      <th></th>\n",
       "      <th></th>\n",
       "      <th></th>\n",
       "      <th></th>\n",
       "      <th></th>\n",
       "      <th></th>\n",
       "      <th></th>\n",
       "      <th></th>\n",
       "      <th></th>\n",
       "      <th></th>\n",
       "      <th></th>\n",
       "      <th></th>\n",
       "      <th></th>\n",
       "      <th></th>\n",
       "    </tr>\n",
       "  </thead>\n",
       "  <tbody>\n",
       "    <tr>\n",
       "      <th>752810593</th>\n",
       "      <td>2.11.0</td>\n",
       "      <td>8</td>\n",
       "      <td>min#inclusive#sum#time.duration,max#inclusive#...</td>\n",
       "      <td></td>\n",
       "      <td>2</td>\n",
       "      <td>time.variance,profile.mpi,node.order,region.co...</td>\n",
       "      <td>regionprofile</td>\n",
       "      <td>spot</td>\n",
       "      <td>true</td>\n",
       "      <td>p8-a65536-trandom.cali</td>\n",
       "      <td>...</td>\n",
       "      <td>bitonic</td>\n",
       "      <td>mpi</td>\n",
       "      <td>int</td>\n",
       "      <td>4</td>\n",
       "      <td>65536</td>\n",
       "      <td>random</td>\n",
       "      <td>8</td>\n",
       "      <td>strong</td>\n",
       "      <td>11</td>\n",
       "      <td>handwritten</td>\n",
       "    </tr>\n",
       "  </tbody>\n",
       "</table>\n",
       "<p>1 rows × 28 columns</p>\n",
       "</div>"
      ],
      "text/plain": [
       "          cali.caliper.version  mpi.world.size  \\\n",
       "profile                                          \n",
       "752810593               2.11.0               8   \n",
       "\n",
       "                                                spot.metrics  \\\n",
       "profile                                                        \n",
       "752810593  min#inclusive#sum#time.duration,max#inclusive#...   \n",
       "\n",
       "          spot.timeseries.metrics  spot.format.version  \\\n",
       "profile                                                  \n",
       "752810593                                            2   \n",
       "\n",
       "                                                spot.options  spot.channels  \\\n",
       "profile                                                                       \n",
       "752810593  time.variance,profile.mpi,node.order,region.co...  regionprofile   \n",
       "\n",
       "          cali.channel spot:node.order             spot:output  ... algorithm  \\\n",
       "profile                                                         ...             \n",
       "752810593         spot            true  p8-a65536-trandom.cali  ...   bitonic   \n",
       "\n",
       "          programming_model data_type size_of_data_type  input_size  \\\n",
       "profile                                                               \n",
       "752810593               mpi       int                 4       65536   \n",
       "\n",
       "          input_type num_procs scalability group_num implementation_source  \n",
       "profile                                                                     \n",
       "752810593     random         8      strong        11           handwritten  \n",
       "\n",
       "[1 rows x 28 columns]"
      ]
     },
     "execution_count": 3,
     "metadata": {},
     "output_type": "execute_result"
    }
   ],
   "source": [
    "tk.metadata"
   ]
  },
  {
   "cell_type": "code",
   "execution_count": 4,
   "metadata": {
    "vscode": {
     "languageId": "plaintext"
    }
   },
   "outputs": [
    {
     "name": "stdout",
     "output_type": "stream",
     "text": [
      "  _____ _     _      _        _   \n",
      " |_   _| |__ (_) ___| | _____| |_ \n",
      "   | | | '_ \\| |/ __| |/ / _ \\ __|\n",
      "   | | | | | | | (__|   <  __/ |_ \n",
      "   |_| |_| |_|_|\\___|_|\\_\\___|\\__|  v2024.1.0\n",
      "\n",
      "0.567 main\n",
      "├─ 0.561 main\n",
      "│  ├─ 0.000 MPI_Init\n",
      "│  ├─ 0.000 data_init_runtime\n",
      "│  ├─ 0.002 comm\n",
      "│  │  └─ 0.002 comm_large\n",
      "│  │     ├─ 0.002 MPI_Scatter\n",
      "│  │     └─ 0.000 MPI_Gather\n",
      "│  ├─ 0.030 comp\n",
      "│  │  └─ 0.030 comp_large\n",
      "│  │     └─ 0.028 comp_small\n",
      "│  │        ├─ 0.019 comm_small\n",
      "│  │        │  └─ 0.000 MPI_Sendrecv\n",
      "│  │        └─ 0.009 MPI_Barrier\n",
      "│  └─ 0.000 correctness_check\n",
      "├─ 0.000 MPI_Finalize\n",
      "├─ 0.000 MPI_Initialized\n",
      "├─ 0.000 MPI_Finalized\n",
      "└─ 0.000 MPI_Comm_dup\n",
      "\n",
      "Legend (Metric: Avg time/rank Min: 0.00 Max: 0.57 indices: {'profile': 752810593})\n",
      "█ 0.51 - 0.57\n",
      "█ 0.40 - 0.51\n",
      "█ 0.28 - 0.40\n",
      "█ 0.17 - 0.28\n",
      "█ 0.06 - 0.17\n",
      "█ 0.00 - 0.06\n",
      "\n",
      "name User code    ◀  Only in left graph    ▶  Only in right graph\n",
      "\n"
     ]
    }
   ],
   "source": [
    "import colorama\n",
    "import re\n",
    "\n",
    "colorama.init()\n",
    "\n",
    "raw_output = tk.tree(metric_column=\"Avg time/rank\")\n",
    "clean_output = re.sub(r'\\x1b\\[[0-9;]*m', '', raw_output)\n",
    "print(clean_output)"
   ]
  }
 ],
 "metadata": {
  "kernelspec": {
   "display_name": "Python 3 (ipykernel)",
   "language": "python",
   "name": "python3"
  },
  "language_info": {
   "codemirror_mode": {
    "name": "ipython",
    "version": 3
   },
   "file_extension": ".py",
   "mimetype": "text/x-python",
   "name": "python",
   "nbconvert_exporter": "python",
   "pygments_lexer": "ipython3",
   "version": "3.10.4"
  }
 },
 "nbformat": 4,
 "nbformat_minor": 2
}
